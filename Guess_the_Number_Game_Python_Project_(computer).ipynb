{
  "nbformat": 4,
  "nbformat_minor": 0,
  "metadata": {
    "colab": {
      "provenance": [],
      "authorship_tag": "ABX9TyNrqAeV9UtE5QGcbps1L7ks",
      "include_colab_link": true
    },
    "kernelspec": {
      "name": "python3",
      "display_name": "Python 3"
    },
    "language_info": {
      "name": "python"
    }
  },
  "cells": [
    {
      "cell_type": "markdown",
      "metadata": {
        "id": "view-in-github",
        "colab_type": "text"
      },
      "source": [
        "<a href=\"https://colab.research.google.com/github/Alishkhan2501/Assignments_1_to_6/blob/main/Guess_the_Number_Game_Python_Project_(computer).ipynb\" target=\"_parent\"><img src=\"https://colab.research.google.com/assets/colab-badge.svg\" alt=\"Open In Colab\"/></a>"
      ]
    },
    {
      "cell_type": "code",
      "source": [
        "import random\n",
        "\n",
        "# Function to get feedback from the user about the computer's guess\n",
        "def get_feedback():\n",
        "    while True:\n",
        "        feedback = input(\"Is my guess too high (h), too low (l), or correct (c)? \").strip().lower()\n",
        "        if feedback in ['h', 'l', 'c']:\n",
        "            return feedback\n",
        "        else:\n",
        "            print(\"Invalid input! Please enter 'h' for too high, 'l' for too low, or 'c' for correct.\")\n",
        "\n",
        "# function where the computer guesses the number\n",
        "def computer_guesses_number():\n",
        "    print(\"\\n🎮 Welcome to 'Guess the Number (Computer Edition)'!\")\n",
        "    print(\"Think of a number between 1 and 100, and I'll try to guess it.\")\n",
        "\n",
        "    low = 1\n",
        "    high = 100\n",
        "    attempts = 0\n",
        "\n",
        "    while True:\n",
        "        attempts += 1\n",
        "        guess = random.randint(low, high)\n",
        "        print(f\"\\nAttempt {attempts}: My guess is {guess}.\")\n",
        "\n",
        "        feedback = get_feedback()\n",
        "\n",
        "        if feedback == 'c':\n",
        "            print(f\"🎉 Yay! I guessed your number {guess} in {attempts} attempts.\")\n",
        "            break\n",
        "        elif feedback == 'h':\n",
        "            high = guess - 1\n",
        "        elif feedback == 'l':\n",
        "            low = guess + 1\n",
        "\n",
        "        # Check for invalid range (this ensures the game logic doesn't break)\n",
        "        if low > high:\n",
        "            print(\"Something went wrong! Please check your feedback inputs.\")\n",
        "            break\n",
        "\n",
        "# Main program to run the game\n",
        "if __name__ == \"__main__\":\n",
        "    computer_guesses_number()"
      ],
      "metadata": {
        "colab": {
          "base_uri": "https://localhost:8080/"
        },
        "id": "N93VuhQqzrwc",
        "outputId": "edc335ae-1131-4b75-927d-f12d21e5f3af"
      },
      "execution_count": null,
      "outputs": [
        {
          "output_type": "stream",
          "name": "stdout",
          "text": [
            "\n",
            "🎮 Welcome to 'Guess the Number (Computer Edition)'!\n",
            "Think of a number between 1 and 100, and I'll try to guess it.\n",
            "\n",
            "Attempt 1: My guess is 39.\n"
          ]
        }
      ]
    }
  ]
}